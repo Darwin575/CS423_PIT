{
 "cells": [
  {
   "cell_type": "markdown",
   "id": "5d9c1450-2088-4867-a98c-d0fe6654386d",
   "metadata": {},
   "source": [
    "# Gerald Darwin D. Lariosa"
   ]
  },
  {
   "cell_type": "markdown",
   "id": "d09e22bb-fc1a-450a-84c4-6e67d34db219",
   "metadata": {},
   "source": [
    "*February 17, 2025*"
   ]
  },
  {
   "cell_type": "markdown",
   "id": "e443612a-859c-4184-8d78-f306874fbfdd",
   "metadata": {},
   "source": [
    "## Import Library for Tokenization"
   ]
  },
  {
   "cell_type": "code",
   "execution_count": 1,
   "id": "979b7345-ffc0-4716-9d6f-751ba36cc473",
   "metadata": {},
   "outputs": [],
   "source": [
    "from nltk.tokenize import regexp_tokenize, wordpunct_tokenize"
   ]
  },
  {
   "cell_type": "code",
   "execution_count": 2,
   "id": "63c75afd-26a6-402f-906e-c54ec3868b1a",
   "metadata": {},
   "outputs": [],
   "source": [
    "import re"
   ]
  },
  {
   "cell_type": "markdown",
   "id": "5437823a-5894-486c-b9c6-dbb3c047c292",
   "metadata": {},
   "source": [
    "## Load the data"
   ]
  },
  {
   "cell_type": "code",
   "execution_count": 3,
   "id": "5ce9f64e-6eb1-4fec-85ca-1fce1ce5ea3d",
   "metadata": {},
   "outputs": [],
   "source": [
    "with open(\"feedbacks.txt\", \"r\", encoding=\"utf-8\") as file:\n",
    "    reviews = file.readlines()"
   ]
  },
  {
   "cell_type": "code",
   "execution_count": 4,
   "id": "f838784d-2119-4d92-a0ac-684adf87493e",
   "metadata": {},
   "outputs": [
    {
     "data": {
      "text/plain": [
       "['Absolutely LOVE this phone! ❤️ The camera is insane!! 📸 But… the battery drains kinda fast. Still, worth it! 9/10. #BestPurchase\\n',\n",
       " 'Ugh… not what I expected. 😡 The quality is just okay, and it arrived 3 days late!! Paid $150, expected better. 4/10 👎\\n',\n",
       " 'This blender is AMAZING!! 🥤💯 Super powerful, blends everything so smoothly. Only issue? It’s a bit noisy. 8.5/10.\\n',\n",
       " 'DO NOT BUY. 🚨 Stopped working after just 2 weeks! Waste of $50. 😤 Contacted support but no response… so disappointed. 1/10.\\n',\n",
       " 'Wow… I was skeptical at first, but this laptop is🔥! Boots up in seconds, crazy fast performance. 💻 Just wish it was lighter. 9.3/10!\\n',\n",
       " 'Good product but not great. 🤷\\u200d♂️ The material feels cheap, but it does the job. Would I buy again? Probably not. 6/10.\\n',\n",
       " 'Shipping took FOREVER 😤—almost 2 weeks! But the product itself is great. Super durable, looks premium. 7.5/10.\\n',\n",
       " 'This headset is a GAME-CHANGER. 🎧💥 Noise-canceling is unreal! Wore them on a flight, and it was pure silence. Pricey, but WORTH IT! 9.8/10.\\n',\n",
       " 'Horrible experience. 😖 Broke within a month. Customer service is non-existent. Not worth $80. 2/10.\\n',\n",
       " 'The best smartwatch I’ve ever owned! ⌚🔥 Tracks my workouts perfectly, syncs with my phone instantly. Only con? Battery life. 8.7/10.\\n',\n",
       " \"Wow!!! This product is a game-changer. I've never seen anything like it before... It’s absolutely amazing 😊!! However, the delivery took 5 days instead of 2, which was disappointing :(. But overall, I’d give it a 9.5/10!! #BestPurchaseEver\"]"
      ]
     },
     "execution_count": 4,
     "metadata": {},
     "output_type": "execute_result"
    }
   ],
   "source": [
    "reviews"
   ]
  },
  {
   "cell_type": "markdown",
   "id": "c51a51b9-238e-4164-98d8-ae3c94101691",
   "metadata": {},
   "source": [
    "## Tokenization (Splitting the Text into Meaningful Parts) And Removing Unwanted Elements"
   ]
  },
  {
   "cell_type": "code",
   "execution_count": 5,
   "id": "2b0fe978-87c1-4e85-bd7c-c70445bb23bb",
   "metadata": {
    "scrolled": true
   },
   "outputs": [
    {
     "data": {
      "text/plain": [
       "['Absolutely',\n",
       " 'LOVE',\n",
       " 'this',\n",
       " 'phone',\n",
       " 'The',\n",
       " 'camera',\n",
       " 'is',\n",
       " 'insane',\n",
       " 'But',\n",
       " 'the',\n",
       " 'battery',\n",
       " 'drains',\n",
       " 'kinda',\n",
       " 'fast',\n",
       " 'Still',\n",
       " 'worth',\n",
       " 'it',\n",
       " 'BestPurchase',\n",
       " 'Ugh',\n",
       " 'not',\n",
       " 'what',\n",
       " 'I',\n",
       " 'expected',\n",
       " 'The',\n",
       " 'quality',\n",
       " 'is',\n",
       " 'just',\n",
       " 'okay',\n",
       " 'and',\n",
       " 'it',\n",
       " 'arrived',\n",
       " 'days',\n",
       " 'late',\n",
       " 'Paid',\n",
       " 'expected',\n",
       " 'better',\n",
       " 'This',\n",
       " 'blender',\n",
       " 'is',\n",
       " 'AMAZING',\n",
       " 'Super',\n",
       " 'powerful',\n",
       " 'blends',\n",
       " 'everything',\n",
       " 'so',\n",
       " 'smoothly',\n",
       " 'Only',\n",
       " 'issue',\n",
       " 'Its',\n",
       " 'a',\n",
       " 'bit',\n",
       " 'noisy',\n",
       " 'DO',\n",
       " 'NOT',\n",
       " 'BUY',\n",
       " 'Stopped',\n",
       " 'working',\n",
       " 'after',\n",
       " 'just',\n",
       " 'weeks',\n",
       " 'Waste',\n",
       " 'of',\n",
       " 'Contacted',\n",
       " 'support',\n",
       " 'but',\n",
       " 'no',\n",
       " 'response',\n",
       " 'so',\n",
       " 'disappointed',\n",
       " 'Wow',\n",
       " 'I',\n",
       " 'was',\n",
       " 'skeptical',\n",
       " 'at',\n",
       " 'first',\n",
       " 'but',\n",
       " 'this',\n",
       " 'laptop',\n",
       " 'is',\n",
       " 'Boots',\n",
       " 'up',\n",
       " 'in',\n",
       " 'seconds',\n",
       " 'crazy',\n",
       " 'fast',\n",
       " 'performance',\n",
       " 'Just',\n",
       " 'wish',\n",
       " 'it',\n",
       " 'was',\n",
       " 'lighter',\n",
       " 'Good',\n",
       " 'product',\n",
       " 'but',\n",
       " 'not',\n",
       " 'great',\n",
       " 'The',\n",
       " 'material',\n",
       " 'feels',\n",
       " 'cheap',\n",
       " 'but',\n",
       " 'it',\n",
       " 'does',\n",
       " 'the',\n",
       " 'job',\n",
       " 'Would',\n",
       " 'I',\n",
       " 'buy',\n",
       " 'again',\n",
       " 'Probably',\n",
       " 'not',\n",
       " 'Shipping',\n",
       " 'took',\n",
       " 'FOREVER',\n",
       " 'almost',\n",
       " 'weeks',\n",
       " 'But',\n",
       " 'the',\n",
       " 'product',\n",
       " 'itself',\n",
       " 'is',\n",
       " 'great',\n",
       " 'Super',\n",
       " 'durable',\n",
       " 'looks',\n",
       " 'premium',\n",
       " 'This',\n",
       " 'headset',\n",
       " 'is',\n",
       " 'a',\n",
       " 'GAMECHANGER',\n",
       " 'Noisecanceling',\n",
       " 'is',\n",
       " 'unreal',\n",
       " 'Wore',\n",
       " 'them',\n",
       " 'on',\n",
       " 'a',\n",
       " 'flight',\n",
       " 'and',\n",
       " 'it',\n",
       " 'was',\n",
       " 'pure',\n",
       " 'silence',\n",
       " 'Pricey',\n",
       " 'but',\n",
       " 'WORTH',\n",
       " 'IT',\n",
       " 'Horrible',\n",
       " 'experience',\n",
       " 'Broke',\n",
       " 'within',\n",
       " 'a',\n",
       " 'month',\n",
       " 'Customer',\n",
       " 'service',\n",
       " 'is',\n",
       " 'nonexistent',\n",
       " 'Not',\n",
       " 'worth',\n",
       " 'The',\n",
       " 'best',\n",
       " 'smartwatch',\n",
       " 'Ive',\n",
       " 'ever',\n",
       " 'owned',\n",
       " 'Tracks',\n",
       " 'my',\n",
       " 'workouts',\n",
       " 'perfectly',\n",
       " 'syncs',\n",
       " 'with',\n",
       " 'my',\n",
       " 'phone',\n",
       " 'instantly',\n",
       " 'Only',\n",
       " 'con',\n",
       " 'Battery',\n",
       " 'life',\n",
       " 'Wow',\n",
       " 'This',\n",
       " 'product',\n",
       " 'is',\n",
       " 'a',\n",
       " 'gamechanger',\n",
       " 'Ive',\n",
       " 'never',\n",
       " 'seen',\n",
       " 'anything',\n",
       " 'like',\n",
       " 'it',\n",
       " 'before',\n",
       " 'Its',\n",
       " 'absolutely',\n",
       " 'amazing',\n",
       " 'However',\n",
       " 'the',\n",
       " 'delivery',\n",
       " 'took',\n",
       " 'days',\n",
       " 'instead',\n",
       " 'of',\n",
       " 'which',\n",
       " 'was',\n",
       " 'disappointing',\n",
       " 'But',\n",
       " 'overall',\n",
       " 'Id',\n",
       " 'give',\n",
       " 'it',\n",
       " 'a',\n",
       " 'BestPurchaseEver']"
      ]
     },
     "execution_count": 5,
     "metadata": {},
     "output_type": "execute_result"
    }
   ],
   "source": [
    "tokenize_feedbacks = []\n",
    "for review in reviews:\n",
    "    # Remove special characters (e.g., !!!, , #BestPurchaseEver).\n",
    "    # Remove punctuations while keeping words intact.\n",
    "    re_special_chars = re.sub(r\"[^a-zA-Z0-9\\s]\", \"\", review)\n",
    "\n",
    "    # Tokenize\n",
    "    tokens = wordpunct_tokenize(re_special_chars)\n",
    "    \n",
    "    # Remove numbers (e.g., 9.5/10, 5, 2)\n",
    "    for token in tokens:\n",
    "        if not token.isdigit():\n",
    "            tokenize_feedbacks.append(token)\n",
    "tokenize_feedbacks"
   ]
  },
  {
   "cell_type": "markdown",
   "id": "775a5003-c592-492b-a678-9b25e511095b",
   "metadata": {},
   "source": [
    "## Frequently Occuring Words After Tokenizing"
   ]
  },
  {
   "cell_type": "code",
   "execution_count": 7,
   "id": "18de7116-0430-42cb-a8a8-5c823be1f572",
   "metadata": {},
   "outputs": [
    {
     "data": {
      "text/plain": [
       "FreqDist({'is': 9, 'it': 7, 'a': 6, 'but': 5, 'The': 4, 'the': 4, 'was': 4, 'But': 3, 'not': 3, 'I': 3, ...})"
      ]
     },
     "execution_count": 7,
     "metadata": {},
     "output_type": "execute_result"
    }
   ],
   "source": [
    "freq_dis_nltk = nltk.FreqDist(tokenize_feedbacks)\n",
    "freq_dis_nltk"
   ]
  },
  {
   "cell_type": "markdown",
   "id": "bced6a08-1aba-4850-a1e6-cb70b306007d",
   "metadata": {},
   "source": [
    "## Load Stopwords"
   ]
  },
  {
   "cell_type": "code",
   "execution_count": 6,
   "id": "bb2e2c60-d596-4546-baa0-ccf74e21db1b",
   "metadata": {},
   "outputs": [
    {
     "name": "stderr",
     "output_type": "stream",
     "text": [
      "[nltk_data] Downloading package stopwords to\n",
      "[nltk_data]     C:\\Users\\user\\AppData\\Roaming\\nltk_data...\n"
     ]
    },
    {
     "name": "stdout",
     "output_type": "stream",
     "text": [
      "['i', 'me', 'my', 'myself', 'we', 'our', 'ours', 'ourselves', 'you', \"you're\", \"you've\", \"you'll\", \"you'd\", 'your', 'yours', 'yourself', 'yourselves', 'he', 'him', 'his', 'himself', 'she', \"she's\", 'her', 'hers', 'herself', 'it', \"it's\", 'its', 'itself', 'they', 'them', 'their', 'theirs', 'themselves', 'what', 'which', 'who', 'whom', 'this', 'that', \"that'll\", 'these', 'those', 'am', 'is', 'are', 'was', 'were', 'be', 'been', 'being', 'have', 'has', 'had', 'having', 'do', 'does', 'did', 'doing', 'a', 'an', 'the', 'and', 'but', 'if', 'or', 'because', 'as', 'until', 'while', 'of', 'at', 'by', 'for', 'with', 'about', 'against', 'between', 'into', 'through', 'during', 'before', 'after', 'above', 'below', 'to', 'from', 'up', 'down', 'in', 'out', 'on', 'off', 'over', 'under', 'again', 'further', 'then', 'once', 'here', 'there', 'when', 'where', 'why', 'how', 'all', 'any', 'both', 'each', 'few', 'more', 'most', 'other', 'some', 'such', 'no', 'nor', 'not', 'only', 'own', 'same', 'so', 'than', 'too', 'very', 's', 't', 'can', 'will', 'just', 'don', \"don't\", 'should', \"should've\", 'now', 'd', 'll', 'm', 'o', 're', 've', 'y', 'ain', 'aren', \"aren't\", 'couldn', \"couldn't\", 'didn', \"didn't\", 'doesn', \"doesn't\", 'hadn', \"hadn't\", 'hasn', \"hasn't\", 'haven', \"haven't\", 'isn', \"isn't\", 'ma', 'mightn', \"mightn't\", 'mustn', \"mustn't\", 'needn', \"needn't\", 'shan', \"shan't\", 'shouldn', \"shouldn't\", 'wasn', \"wasn't\", 'weren', \"weren't\", 'won', \"won't\", 'wouldn', \"wouldn't\"]\n"
     ]
    },
    {
     "name": "stderr",
     "output_type": "stream",
     "text": [
      "[nltk_data]   Unzipping corpora\\stopwords.zip.\n"
     ]
    }
   ],
   "source": [
    "import nltk\n",
    "nltk.download('stopwords')\n",
    "from nltk.corpus import stopwords\n",
    "words=stopwords.words('english')\n",
    "print(words)"
   ]
  },
  {
   "cell_type": "markdown",
   "id": "47a51d5a-60dc-42ef-bacc-5ab0de7cfd07",
   "metadata": {},
   "source": [
    "## Count Stopwords"
   ]
  },
  {
   "cell_type": "code",
   "execution_count": 9,
   "id": "0322d06a-b4b9-4a53-bf7d-5e48309759d7",
   "metadata": {},
   "outputs": [
    {
     "name": "stdout",
     "output_type": "stream",
     "text": [
      "Total Stopwords Found: 86\n",
      "Stopwords List: ['this', 'The', 'is', 'But', 'the', 'it', 'not', 'what', 'I', 'The', 'is', 'just', 'and', 'it', 'This', 'is', 'so', 'Only', 'Its', 'a', 'DO', 'NOT', 'after', 'just', 'of', 'but', 'no', 'so', 'I', 'was', 'at', 'but', 'this', 'is', 'up', 'in', 'Just', 'it', 'was', 'but', 'not', 'The', 'but', 'it', 'does', 'the', 'I', 'again', 'not', 'But', 'the', 'itself', 'is', 'This', 'is', 'a', 'is', 'them', 'on', 'a', 'and', 'it', 'was', 'but', 'IT', 'a', 'is', 'Not', 'The', 'my', 'with', 'my', 'Only', 'This', 'is', 'a', 'it', 'before', 'Its', 'the', 'of', 'which', 'was', 'But', 'it', 'a']\n"
     ]
    }
   ],
   "source": [
    "stopword_count = [word for word in tokenize_feedbacks if word.lower() in words]\n",
    "\n",
    "print(f\"Total Stopwords Found: {len(stopword_count)}\")\n",
    "print(\"Stopwords List:\", stopword_count)"
   ]
  },
  {
   "cell_type": "markdown",
   "id": "aaaadbf5-bc2b-4b74-998b-9e0f8f2deaee",
   "metadata": {},
   "source": [
    "## Remove Stopwords"
   ]
  },
  {
   "cell_type": "code",
   "execution_count": 10,
   "id": "6f11bb69-780c-4ec7-8ec4-bf8bac613ea5",
   "metadata": {},
   "outputs": [
    {
     "data": {
      "text/plain": [
       "FreqDist({'worth': 3, 'product': 3, 'absolutely': 2, 'phone': 2, 'battery': 2, 'fast': 2, 'expected': 2, 'days': 2, 'amazing': 2, 'super': 2, ...})"
      ]
     },
     "execution_count": 10,
     "metadata": {},
     "output_type": "execute_result"
    }
   ],
   "source": [
    "clean_tokens = [word.lower() for word in tokenize_feedbacks if word.lower() not in words and word.isalpha()]\n",
    "freq_dis_nltk = nltk.FreqDist(clean_tokens)\n",
    "freq_dis_nltk"
   ]
  },
  {
   "cell_type": "markdown",
   "id": "7d9bc00e-a48c-45dc-b737-1c3fe4068142",
   "metadata": {},
   "source": [
    "## Normalizing Words (Lemmatization)"
   ]
  },
  {
   "cell_type": "code",
   "execution_count": 12,
   "id": "9fba028a-3f1f-440a-9755-c3ed28ead9fe",
   "metadata": {
    "scrolled": true
   },
   "outputs": [
    {
     "name": "stderr",
     "output_type": "stream",
     "text": [
      "[nltk_data] Downloading package wordnet to\n",
      "[nltk_data]     C:\\Users\\user\\AppData\\Roaming\\nltk_data...\n"
     ]
    },
    {
     "data": {
      "text/plain": [
       "['absolutely',\n",
       " 'love',\n",
       " 'phone',\n",
       " 'camera',\n",
       " 'insane',\n",
       " 'battery',\n",
       " 'drain',\n",
       " 'kinda',\n",
       " 'fast',\n",
       " 'still',\n",
       " 'worth',\n",
       " 'bestpurchase',\n",
       " 'ugh',\n",
       " 'expected',\n",
       " 'quality',\n",
       " 'okay',\n",
       " 'arrived',\n",
       " 'day',\n",
       " 'late',\n",
       " 'paid',\n",
       " 'expected',\n",
       " 'better',\n",
       " 'blender',\n",
       " 'amazing',\n",
       " 'super',\n",
       " 'powerful',\n",
       " 'blend',\n",
       " 'everything',\n",
       " 'smoothly',\n",
       " 'issue',\n",
       " 'bit',\n",
       " 'noisy',\n",
       " 'buy',\n",
       " 'stopped',\n",
       " 'working',\n",
       " 'week',\n",
       " 'waste',\n",
       " 'contacted',\n",
       " 'support',\n",
       " 'response',\n",
       " 'disappointed',\n",
       " 'wow',\n",
       " 'skeptical',\n",
       " 'first',\n",
       " 'laptop',\n",
       " 'boot',\n",
       " 'second',\n",
       " 'crazy',\n",
       " 'fast',\n",
       " 'performance',\n",
       " 'wish',\n",
       " 'lighter',\n",
       " 'good',\n",
       " 'product',\n",
       " 'great',\n",
       " 'material',\n",
       " 'feel',\n",
       " 'cheap',\n",
       " 'job',\n",
       " 'would',\n",
       " 'buy',\n",
       " 'probably',\n",
       " 'shipping',\n",
       " 'took',\n",
       " 'forever',\n",
       " 'almost',\n",
       " 'week',\n",
       " 'product',\n",
       " 'great',\n",
       " 'super',\n",
       " 'durable',\n",
       " 'look',\n",
       " 'premium',\n",
       " 'headset',\n",
       " 'gamechanger',\n",
       " 'noisecanceling',\n",
       " 'unreal',\n",
       " 'wore',\n",
       " 'flight',\n",
       " 'pure',\n",
       " 'silence',\n",
       " 'pricey',\n",
       " 'worth',\n",
       " 'horrible',\n",
       " 'experience',\n",
       " 'broke',\n",
       " 'within',\n",
       " 'month',\n",
       " 'customer',\n",
       " 'service',\n",
       " 'nonexistent',\n",
       " 'worth',\n",
       " 'best',\n",
       " 'smartwatch',\n",
       " 'ive',\n",
       " 'ever',\n",
       " 'owned',\n",
       " 'track',\n",
       " 'workout',\n",
       " 'perfectly',\n",
       " 'syncs',\n",
       " 'phone',\n",
       " 'instantly',\n",
       " 'con',\n",
       " 'battery',\n",
       " 'life',\n",
       " 'wow',\n",
       " 'product',\n",
       " 'gamechanger',\n",
       " 'ive',\n",
       " 'never',\n",
       " 'seen',\n",
       " 'anything',\n",
       " 'like',\n",
       " 'absolutely',\n",
       " 'amazing',\n",
       " 'however',\n",
       " 'delivery',\n",
       " 'took',\n",
       " 'day',\n",
       " 'instead',\n",
       " 'disappointing',\n",
       " 'overall',\n",
       " 'id',\n",
       " 'give',\n",
       " 'bestpurchaseever']"
      ]
     },
     "execution_count": 12,
     "metadata": {},
     "output_type": "execute_result"
    }
   ],
   "source": [
    "import nltk\n",
    "nltk.download('wordnet')\n",
    "\n",
    "from nltk.stem import WordNetLemmatizer\n",
    "wlem = WordNetLemmatizer()\n",
    "\n",
    "lemmatized_words = []\n",
    "\n",
    "for token in clean_tokens:\n",
    "    lemmatized_word = wlem.lemmatize(token)\n",
    "    lemmatized_words.append(lemmatized_word)\n",
    "lemmatized_words"
   ]
  },
  {
   "cell_type": "markdown",
   "id": "ac2d0b6a-2aea-409e-89dd-2dd9c67dd776",
   "metadata": {},
   "source": [
    "## Frequently Occuring Words After Removing Stopwords and Lemmatizing"
   ]
  },
  {
   "cell_type": "code",
   "execution_count": 13,
   "id": "353e73e2-07f2-42d1-9a3c-8828117d52b6",
   "metadata": {},
   "outputs": [
    {
     "data": {
      "text/plain": [
       "FreqDist({'worth': 3, 'product': 3, 'absolutely': 2, 'phone': 2, 'battery': 2, 'fast': 2, 'expected': 2, 'day': 2, 'amazing': 2, 'super': 2, ...})"
      ]
     },
     "execution_count": 13,
     "metadata": {},
     "output_type": "execute_result"
    }
   ],
   "source": [
    "freq_dis_nltk = nltk.FreqDist(lemmatized_words)\n",
    "freq_dis_nltk"
   ]
  },
  {
   "cell_type": "markdown",
   "id": "8ca4065f-ad01-478c-9867-647d71d034e3",
   "metadata": {},
   "source": [
    "## Word Frequency Analysis"
   ]
  },
  {
   "cell_type": "markdown",
   "id": "9f7db19d-5bc5-46b8-a9fa-d2e3cd139949",
   "metadata": {},
   "source": [
    "## The Top 5 Most Frequently Occurring Words."
   ]
  },
  {
   "cell_type": "code",
   "execution_count": 15,
   "id": "37314a7f-2e5f-4770-83f3-93150977f8aa",
   "metadata": {},
   "outputs": [
    {
     "data": {
      "image/png": "[encoded data removed]",
      "text/plain": [
       "<Figure size 1200x600 with 1 Axes>"
      ]
     },
     "metadata": {},
     "output_type": "display_data"
    }
   ],
   "source": [
    "import matplotlib.pyplot as plt\n",
    "\n",
    "# Display the top 5 most frequently occurring words.\n",
    "plt.figure(figsize=(12, 6))\n",
    "freq_dis_nltk.plot(5, cumulative=False)\n",
    "plt.show()"
   ]
  },
  {
   "cell_type": "code",
   "execution_count": null,
   "id": "c25c25be-3454-459a-8b85-057b8ca1dc9e",
   "metadata": {},
   "outputs": [],
   "source": []
  }
 ],
 "metadata": {
  "kernelspec": {
   "display_name": "Python 3 (ipykernel)",
   "language": "python",
   "name": "python3"
  },
  "language_info": {
   "codemirror_mode": {
    "name": "ipython",
    "version": 3
   },
   "file_extension": ".py",
   "mimetype": "text/x-python",
   "name": "python",
   "nbconvert_exporter": "python",
   "pygments_lexer": "ipython3",
   "version": "3.11.5"
  }
 },
 "nbformat": 4,
 "nbformat_minor": 5
}
