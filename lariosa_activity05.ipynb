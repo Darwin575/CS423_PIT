{
 "cells": [
  {
   "cell_type": "markdown",
   "id": "fd1f0498",
   "metadata": {},
   "source": [
    "# ACTIVITY 05"
   ]
  },
  {
   "cell_type": "markdown",
   "id": "c1e4ab5e",
   "metadata": {},
   "source": [
    "#### __Lariosa, Gerald Darwin D.__"
   ]
  },
  {
   "cell_type": "markdown",
   "id": "ad7893b7",
   "metadata": {},
   "source": [
    "*March 7, 2025*"
   ]
  },
  {
   "cell_type": "markdown",
   "id": "f76b361f",
   "metadata": {},
   "source": [
    "### Import Required Library"
   ]
  },
  {
   "cell_type": "code",
   "execution_count": 1,
   "id": "090de4ae-d475-4990-9e9b-c113e42079ab",
   "metadata": {},
   "outputs": [],
   "source": [
    "import nltk\n",
    "from nltk.tokenize import regexp_tokenize"
   ]
  },
  {
   "cell_type": "markdown",
   "id": "6f4dca92",
   "metadata": {},
   "source": [
    "### Load the Sentences"
   ]
  },
  {
   "cell_type": "code",
   "execution_count": 2,
   "id": "d7a52a5d-4e35-403f-b908-096bdd712522",
   "metadata": {},
   "outputs": [],
   "source": [
    "sentences = [\"The detective carefully examined the mysterious case.\",\n",
    "              \"A scientist discovered a new species in the jungle.\",\n",
    "              \"My dog loves playing in the backyard.\",\n",
    "              \"She read a fascinating book about space travel.\",\n",
    "              \"Lightning flashed as the storm raged through the night.\",\n",
    "              \"She whispered a secret message to her best friend.\",\n",
    "              \"The cat jumps over the fence and chases the bird. The dog barks loudly.\",\n",
    "              \"Michael plays the guitar while singing a song.\",\n",
    "              \"Emma and Oliver visited the museum yesterday.\",\n",
    "              \"Sophia painted a colorful sunset on the canvas.\",\n",
    "              \"John quickly ran to the store to buy some milk.\"]"
   ]
  },
  {
   "cell_type": "markdown",
   "id": "23eb94a0-0310-4225-9089-19eb0b82ae21",
   "metadata": {},
   "source": [
    "### Tokenization and POS Tagging the Sentence"
   ]
  },
  {
   "cell_type": "markdown",
   "id": "b847735f",
   "metadata": {},
   "source": [
    " *  Download Package for POS Tagging"
   ]
  },
  {
   "cell_type": "code",
   "execution_count": 3,
   "id": "acc7077d",
   "metadata": {},
   "outputs": [
    {
     "name": "stderr",
     "output_type": "stream",
     "text": [
      "[nltk_data] Downloading package averaged_perceptron_tagger to\n",
      "[nltk_data]     C:\\Users\\user\\AppData\\Roaming\\nltk_data...\n",
      "[nltk_data]   Package averaged_perceptron_tagger is already up-to-\n",
      "[nltk_data]       date!\n"
     ]
    },
    {
     "data": {
      "text/plain": [
       "True"
      ]
     },
     "execution_count": 3,
     "metadata": {},
     "output_type": "execute_result"
    }
   ],
   "source": [
    "import nltk\n",
    "nltk.download('averaged_perceptron_tagger')"
   ]
  },
  {
   "cell_type": "markdown",
   "id": "32c41b54",
   "metadata": {},
   "source": [
    "* Store in a List and Print the __Tokens__, and __POS Tagged Tokens__."
   ]
  },
  {
   "cell_type": "code",
   "execution_count": 4,
   "id": "5b4646c8-2baf-4fd8-b0c3-f7feb5631fb8",
   "metadata": {},
   "outputs": [],
   "source": [
    "\n",
    "tokenized = []\n",
    "postagged = []\n",
    "\n",
    "# Break the sentence into words excluding the periods.\n",
    "for sentence in sentences:\n",
    "    tokenized_sentence = regexp_tokenize(sentence, pattern=\"\\w+\")\n",
    "    tokenized.append(tokenized_sentence)\n",
    "\n",
    "# Assign a Part-of-Speech (POS) tag to each word.\n",
    "for tokens in tokenized:\n",
    "    postagged.append(nltk.pos_tag(tokens))\n"
   ]
  },
  {
   "cell_type": "code",
   "execution_count": 5,
   "id": "ab67f5ee-7a42-4287-88d5-e4c5834a01f3",
   "metadata": {},
   "outputs": [
    {
     "data": {
      "text/plain": [
       "[['The', 'detective', 'carefully', 'examined', 'the', 'mysterious', 'case'],\n",
       " ['A',\n",
       "  'scientist',\n",
       "  'discovered',\n",
       "  'a',\n",
       "  'new',\n",
       "  'species',\n",
       "  'in',\n",
       "  'the',\n",
       "  'jungle']]"
      ]
     },
     "execution_count": 5,
     "metadata": {},
     "output_type": "execute_result"
    }
   ],
   "source": [
    "tokenized[:2]"
   ]
  },
  {
   "cell_type": "code",
   "execution_count": 6,
   "id": "44e547d3-c93b-42a6-b3f2-daafa38ebfa3",
   "metadata": {
    "scrolled": true
   },
   "outputs": [
    {
     "data": {
      "text/plain": [
       "[[('The', 'DT'),\n",
       "  ('detective', 'JJ'),\n",
       "  ('carefully', 'RB'),\n",
       "  ('examined', 'VBD'),\n",
       "  ('the', 'DT'),\n",
       "  ('mysterious', 'JJ'),\n",
       "  ('case', 'NN')],\n",
       " [('A', 'DT'),\n",
       "  ('scientist', 'NN'),\n",
       "  ('discovered', 'VBD'),\n",
       "  ('a', 'DT'),\n",
       "  ('new', 'JJ'),\n",
       "  ('species', 'NNS'),\n",
       "  ('in', 'IN'),\n",
       "  ('the', 'DT'),\n",
       "  ('jungle', 'NN')]]"
      ]
     },
     "execution_count": 6,
     "metadata": {},
     "output_type": "execute_result"
    }
   ],
   "source": [
    "postagged[:2]"
   ]
  },
  {
   "cell_type": "markdown",
   "id": "eb657e02-bddc-4274-ab86-15c3026a74b5",
   "metadata": {},
   "source": [
    "### Identify the Verbs"
   ]
  },
  {
   "cell_type": "markdown",
   "id": "1503a5e2",
   "metadata": {},
   "source": [
    "* Print The Verbs From Each Sentence"
   ]
  },
  {
   "cell_type": "code",
   "execution_count": 7,
   "id": "c61187c7-4cba-432f-97ef-bc446fea592f",
   "metadata": {},
   "outputs": [
    {
     "name": "stdout",
     "output_type": "stream",
     "text": [
      "Sentence #1: examined\n",
      "Sentence #2: discovered\n",
      "Sentence #3: loves, playing\n",
      "Sentence #4: read\n",
      "Sentence #5: Lightning, flashed, raged\n",
      "Sentence #6: whispered\n",
      "Sentence #7: jumps, chases, barks\n",
      "Sentence #8: plays, singing\n",
      "Sentence #9: visited\n",
      "Sentence #10: painted\n",
      "Sentence #11: ran, buy\n"
     ]
    }
   ],
   "source": [
    "sentence = 0\n",
    "for i in postagged:\n",
    "    sentence += 1\n",
    "    words = 0\n",
    "    verbs = \"\"\n",
    "    for word, pos in i:\n",
    "        words += 1\n",
    "        if pos .startswith('VB'):\n",
    "            verbs += f'{word}, '\n",
    "        if len(i) == words:\n",
    "            print(f'Sentence #{sentence}: {verbs[:-2]}')\n",
    "            "
   ]
  },
  {
   "cell_type": "markdown",
   "id": "653b3c15-ae5b-4aa6-9e63-552457b2a30f",
   "metadata": {},
   "source": [
    "### Rewrite Sentences with New Words"
   ]
  },
  {
   "cell_type": "markdown",
   "id": "d47c67cb",
   "metadata": {},
   "source": [
    "* Store newly chosen nouns in a list and randomly select from them (using __random__) to replace the\n",
    "existing nouns in the text."
   ]
  },
  {
   "cell_type": "code",
   "execution_count": 8,
   "id": "eaec7313-d589-4538-b74b-c8f512b20c6b",
   "metadata": {},
   "outputs": [],
   "source": [
    "replacement_nouns = ['crocodile', 'town', 'ship', 'snake', 'rat', 'dragon', 'politician', 'scientist']"
   ]
  },
  {
   "cell_type": "code",
   "execution_count": 9,
   "id": "cc5e457e-e4e9-4bf2-aa38-6b312d36ca46",
   "metadata": {},
   "outputs": [],
   "source": [
    "import random"
   ]
  },
  {
   "cell_type": "markdown",
   "id": "419ea98a",
   "metadata": {},
   "source": [
    "* Replace all nouns (__NN, NNS, NNP__) with new words of my choice."
   ]
  },
  {
   "cell_type": "code",
   "execution_count": 10,
   "id": "08abe3e7-19df-4aae-b397-83254d99623e",
   "metadata": {
    "scrolled": true
   },
   "outputs": [
    {
     "name": "stdout",
     "output_type": "stream",
     "text": [
      "The detective carefully examined the mysterious town \n",
      "\n",
      "A town discovered a new dragon in the scientist \n",
      "\n",
      "My ship loves playing in the rat \n",
      "\n",
      "She read a fascinating snake about rat scientist \n",
      "\n",
      "Lightning flashed as the dragon raged through the ship \n",
      "\n",
      "She whispered a secret dragon to her best town \n",
      "\n",
      "The ship jumps over the rat and chases the rat The dragon barks loudly \n",
      "\n",
      "town plays the town while singing a town \n",
      "\n",
      "ship and ship visited the crocodile politician \n",
      "\n",
      "crocodile painted a colorful dragon on the town \n",
      "\n",
      "dragon quickly ran to the rat to buy some rat \n",
      "\n"
     ]
    }
   ],
   "source": [
    "\n",
    "for i in postagged:\n",
    "    for word, pos in i:\n",
    "        if pos .startswith('NN'):\n",
    "            word = random.choice(replacement_nouns)\n",
    "      \n",
    "        print(word, end=\" \")\n",
    "          \n",
    "    print(\"\\n\")\n",
    "\n"
   ]
  },
  {
   "cell_type": "markdown",
   "id": "ae42db0f-8696-4e4f-a6a0-7bf3e591e81b",
   "metadata": {},
   "source": [
    "### Text Transformation"
   ]
  },
  {
   "cell_type": "markdown",
   "id": "64b0946b",
   "metadata": {},
   "source": [
    "* List of __verbs, and adjectives__, List of __Nouns was already Defined__ in our previous cells"
   ]
  },
  {
   "cell_type": "code",
   "execution_count": 11,
   "id": "45cdb287",
   "metadata": {},
   "outputs": [],
   "source": [
    "replacement_verbs = ['jog', 'drink', 'code', 'ride', 'eat', 'write']\n",
    "replacement_adjectives = ['fast', 'slow', 'tall', 'short', 'wide', 'narrow']"
   ]
  },
  {
   "cell_type": "markdown",
   "id": "53633f16",
   "metadata": {},
   "source": [
    "* Replace all __nouns, verbs, and adjectives__ with new words of my choice."
   ]
  },
  {
   "cell_type": "code",
   "execution_count": 12,
   "id": "4b2d8bae-dd44-480d-81f8-f91089d4e735",
   "metadata": {},
   "outputs": [
    {
     "name": "stdout",
     "output_type": "stream",
     "text": [
      "The wide carefully eat the slow rat \n",
      "\n",
      "A rat write a fast dragon in the scientist \n",
      "\n",
      "My politician jog write in the snake \n",
      "\n",
      "She ride a fast crocodile about scientist ship \n",
      "\n",
      "code eat as the scientist jog through the ship \n",
      "\n",
      "She drink a narrow town to her fast town \n",
      "\n",
      "The snake jog over the dragon and jog the dragon The ship jog loudly \n",
      "\n",
      "scientist write the rat while code a town \n",
      "\n",
      "rat and dragon write the town snake \n",
      "\n",
      "town jog a fast town on the dragon \n",
      "\n",
      "politician quickly eat to the town to eat some ship \n",
      "\n"
     ]
    }
   ],
   "source": [
    "for sentence in postagged:\n",
    "    for word, pos in sentence:\n",
    "        \n",
    "        #  Use conditional logic to replace nouns, verbs, and adjectives with random words of your\n",
    "        #  choice to each separate list (nouns, verbs, adjectives).\n",
    "        if pos .startswith('NN'):\n",
    "            word = random.choice(replacement_nouns)\n",
    "        if pos .startswith('VB'):\n",
    "            word = random.choice(replacement_verbs)\n",
    "        if pos .startswith('JJ'):\n",
    "            word = random.choice(replacement_adjectives) \n",
    "            \n",
    "        #  Reassemble the modified words into a new sentence\n",
    "        print(word, end=\" \")       \n",
    "    print(\"\\n\")"
   ]
  },
  {
   "cell_type": "code",
   "execution_count": null,
   "id": "5c02fc50-14a0-4d37-941c-f5bd70b04da7",
   "metadata": {},
   "outputs": [],
   "source": []
  }
 ],
 "metadata": {
  "kernelspec": {
   "display_name": "Python 3 (ipykernel)",
   "language": "python",
   "name": "python3"
  },
  "language_info": {
   "codemirror_mode": {
    "name": "ipython",
    "version": 3
   },
   "file_extension": ".py",
   "mimetype": "text/x-python",
   "name": "python",
   "nbconvert_exporter": "python",
   "pygments_lexer": "ipython3",
   "version": "3.11.5"
  }
 },
 "nbformat": 4,
 "nbformat_minor": 5
}
